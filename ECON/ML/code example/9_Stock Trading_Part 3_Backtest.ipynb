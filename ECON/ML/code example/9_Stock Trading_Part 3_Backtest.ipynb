{
 "cells": [
  {
   "cell_type": "markdown",
   "metadata": {
    "id": "v7Cycmf3Zbok"
   },
   "source": [
    "# Stock NeurIPS2018 Part 3. Backtest\n",
    "This series is a reproduction of paper *the process in the paper Practical Deep Reinforcement Learning Approach for Stock Trading*. \n",
    "\n",
    "This is the third and last part of the NeurIPS2018 series, introducing how to use use the agents we trained to do backtest, and compare with baselines such as Mean Variance Optimization and DJIA index.\n",
    "\n",
    "Other demos can be found at the repo of [FinRL-Tutorials]((https://github.com/AI4Finance-Foundation/FinRL-Tutorials))."
   ]
  },
  {
   "cell_type": "markdown",
   "metadata": {
    "id": "1oWbj4HgqHBg"
   },
   "source": [
    "# Part 1. Install Packages"
   ]
  },
  {
   "cell_type": "code",
   "execution_count": 1,
   "metadata": {
    "id": "QJgoEYx3p_NG"
   },
   "outputs": [],
   "source": [
    "## install required packages\n",
    "#!pip install swig\n",
    "#!pip install wrds\n",
    "#!pip install pyportfolioopt\n",
    "## install finrl library\n",
    "#!pip install git+https://github.com/AI4Finance-Foundation/FinRL.git"
   ]
  },
  {
   "cell_type": "code",
   "execution_count": 28,
   "metadata": {
    "id": "mqfBOKz-qJYF"
   },
   "outputs": [],
   "source": [
    "import sys\n",
    "import pandas as pd\n",
    "import numpy as np\n",
    "import matplotlib.pyplot as plt\n",
    "\n",
    "from finrl.meta.preprocessor.yahoodownloader import YahooDownloader\n",
    "from finrl.meta.env_stock_trading.env_stocktrading import StockTradingEnv\n",
    "from finrl.agents.stablebaselines3.models import DRLAgent\n",
    "from stable_baselines3 import A2C, PPO, SAC\n",
    "\n",
    "from finrl.plot import backtest_stats, backtest_plot, get_daily_return, get_baseline\n",
    "\n",
    "%matplotlib inline\n",
    "from finrl.config import INDICATORS"
   ]
  },
  {
   "cell_type": "markdown",
   "metadata": {
    "id": "mUF2P4hmqVjh"
   },
   "source": [
    "# Part 2. Backtesting"
   ]
  },
  {
   "cell_type": "markdown",
   "metadata": {
    "id": "BdU6qLsVWDxI"
   },
   "source": [
    "To backtest the agents, upload trade_data.csv in the same directory of this notebook. For Colab users, just upload trade_data.csv to the default directory."
   ]
  },
  {
   "cell_type": "code",
   "execution_count": 3,
   "metadata": {
    "id": "mSjBHn_MZr4U"
   },
   "outputs": [],
   "source": [
    "train = pd.read_csv('train_data.csv')\n",
    "trade = pd.read_csv('trade_data.csv')\n",
    "\n",
    "# If you are not using the data generated from part 1 of this tutorial, make sure \n",
    "# it has the columns and index in the form that could be make into the environment. \n",
    "# Then you can comment and skip the following lines.\n",
    "train = train.set_index(train.columns[0])\n",
    "train.index.names = ['']\n",
    "trade = trade.set_index(trade.columns[0])\n",
    "trade.index.names = ['']"
   ]
  },
  {
   "cell_type": "markdown",
   "metadata": {
    "id": "qu4Ey54b36oL"
   },
   "source": [
    "Then, upload the trained agent to the same directory, and set the corresponding variable to True."
   ]
  },
  {
   "cell_type": "code",
   "execution_count": 4,
   "metadata": {
    "id": "Z_mVZM4IIa55"
   },
   "outputs": [],
   "source": [
    "if_using_a2c = True\n",
    "if_using_ppo = True\n",
    "if_using_sac = True"
   ]
  },
  {
   "cell_type": "markdown",
   "metadata": {
    "id": "73D4oRqAIkYj"
   },
   "source": [
    "Load the agents"
   ]
  },
  {
   "cell_type": "code",
   "execution_count": 5,
   "metadata": {
    "id": "6CagrX0I36ZN"
   },
   "outputs": [],
   "source": [
    "trained_a2c = A2C.load(\"trained_models/agent_a2c\") if if_using_a2c else None\n",
    "trained_ppo = PPO.load(\"trained_models/agent_ppo\") if if_using_ppo else None\n",
    "trained_sac = SAC.load(\"trained_models/agent_sac\") if if_using_sac else None"
   ]
  },
  {
   "cell_type": "code",
   "execution_count": 6,
   "metadata": {},
   "outputs": [],
   "source": [
    "# Export trained model parameters\n",
    "# model.policy.state_dict()\n",
    "# model.get_parameters()"
   ]
  },
  {
   "cell_type": "markdown",
   "metadata": {
    "id": "U5mmgQF_h1jQ"
   },
   "source": [
    "### Trading (Out-of-sample Performance)\n",
    "\n",
    "We update periodically in order to take full advantage of the data, e.g., retrain quarterly, monthly or weekly. We also tune the parameters along the way, in this notebook we use the in-sample data from 2009-01 to 2020-07 to tune the parameters once, so there is some alpha decay here as the length of trade date extends. \n",
    "\n",
    "Numerous hyperparameters – e.g. the learning rate, the total number of samples to train on – influence the learning process and are usually determined by testing some variations."
   ]
  },
  {
   "cell_type": "code",
   "execution_count": 7,
   "metadata": {
    "colab": {
     "base_uri": "https://localhost:8080/"
    },
    "id": "4H_w3SaBAkKU",
    "outputId": "fdaed3a7-d3a9-4cde-d194-ee4576057175"
   },
   "outputs": [
    {
     "name": "stdout",
     "output_type": "stream",
     "text": [
      "Stock Dimension: 29, State Space: 291\n"
     ]
    }
   ],
   "source": [
    "stock_dimension = len(trade.tic.unique())\n",
    "state_space = 1 + 2*stock_dimension + len(INDICATORS)*stock_dimension\n",
    "print(f\"Stock Dimension: {stock_dimension}, State Space: {state_space}\")"
   ]
  },
  {
   "cell_type": "code",
   "execution_count": 8,
   "metadata": {
    "id": "nKNmQMqGAknW"
   },
   "outputs": [],
   "source": [
    "buy_cost_list = sell_cost_list = [0.001] * stock_dimension\n",
    "num_stock_shares = [0] * stock_dimension\n",
    "\n",
    "env_kwargs = {\n",
    "    \"hmax\": 100,\n",
    "    \"initial_amount\": 1000000,\n",
    "    \"num_stock_shares\": num_stock_shares,\n",
    "    \"buy_cost_pct\": buy_cost_list,\n",
    "    \"sell_cost_pct\": sell_cost_list,\n",
    "    \"state_space\": state_space,\n",
    "    \"stock_dim\": stock_dimension,\n",
    "    \"tech_indicator_list\": INDICATORS,\n",
    "    \"action_space\": stock_dimension,\n",
    "    \"reward_scaling\": 1e-4\n",
    "}"
   ]
  },
  {
   "cell_type": "code",
   "execution_count": 9,
   "metadata": {
    "id": "cIqoV0GSI52v"
   },
   "outputs": [],
   "source": [
    "e_trade_gym = StockTradingEnv(df = trade, turbulence_threshold = 70,risk_indicator_col='vix', **env_kwargs)\n",
    "# env_trade, obs_trade = e_trade_gym.get_sb_env()"
   ]
  },
  {
   "cell_type": "code",
   "execution_count": 10,
   "metadata": {
    "colab": {
     "base_uri": "https://localhost:8080/"
    },
    "id": "lbFchno5j3xs",
    "outputId": "44fffa47-3b47-4e7b-96c2-0a485e9efead"
   },
   "outputs": [
    {
     "name": "stdout",
     "output_type": "stream",
     "text": [
      "hit end!\n"
     ]
    }
   ],
   "source": [
    "df_account_value_a2c, df_actions_a2c = DRLAgent.DRL_prediction(\n",
    "    model=trained_a2c, \n",
    "    environment = e_trade_gym) if if_using_a2c else (None, None)"
   ]
  },
  {
   "cell_type": "code",
   "execution_count": 11,
   "metadata": {
    "id": "74jNP2DBj3hb"
   },
   "outputs": [
    {
     "name": "stdout",
     "output_type": "stream",
     "text": [
      "hit end!\n"
     ]
    }
   ],
   "source": [
    "df_account_value_ppo, df_actions_ppo = DRLAgent.DRL_prediction(\n",
    "    model=trained_ppo, \n",
    "    environment = e_trade_gym) if if_using_ppo else (None, None)"
   ]
  },
  {
   "cell_type": "code",
   "execution_count": 12,
   "metadata": {
    "colab": {
     "base_uri": "https://localhost:8080/"
    },
    "id": "eLOnL5eYh1jR",
    "outputId": "70e50e24-aed5-49f9-cdd7-de6b9689d9ce"
   },
   "outputs": [
    {
     "name": "stdout",
     "output_type": "stream",
     "text": [
      "hit end!\n"
     ]
    }
   ],
   "source": [
    "df_account_value_sac, df_actions_sac = DRLAgent.DRL_prediction(\n",
    "    model=trained_sac, \n",
    "    environment = e_trade_gym) if if_using_sac else (None, None)"
   ]
  },
  {
   "cell_type": "markdown",
   "metadata": {
    "id": "GcE-t08w6DaW"
   },
   "source": [
    "# Part 3: Mean Variance Optimization"
   ]
  },
  {
   "cell_type": "markdown",
   "metadata": {
    "id": "17TUs71EWj09"
   },
   "source": [
    "Mean Variance optimization is a very classic strategy in portfolio management. Here, we go through the whole process to do the mean variance optimization and add it as a baseline to compare.\n",
    "\n",
    "First, process dataframe to the form for MVO weight calculation."
   ]
  },
  {
   "cell_type": "code",
   "execution_count": 13,
   "metadata": {
    "id": "wungSNOwPwKR"
   },
   "outputs": [],
   "source": [
    "def process_df_for_mvo(df):\n",
    "  df = df.sort_values(['date','tic'],ignore_index=True)[['date','tic','close']]\n",
    "  fst = df\n",
    "  fst = fst.iloc[0:stock_dimension, :]\n",
    "  tic = fst['tic'].tolist()\n",
    "\n",
    "  mvo = pd.DataFrame()\n",
    "\n",
    "  for k in range(len(tic)):\n",
    "    mvo[tic[k]] = 0\n",
    "\n",
    "  for i in range(df.shape[0]//stock_dimension):\n",
    "    n = df\n",
    "    n = n.iloc[i * stock_dimension:(i+1) * stock_dimension, :]\n",
    "    date = n['date'][i*stock_dimension]\n",
    "    mvo.loc[date] = n['close'].tolist()\n",
    "  \n",
    "  return mvo"
   ]
  },
  {
   "cell_type": "markdown",
   "metadata": {
    "id": "SwEwkHJ1d_6u"
   },
   "source": [
    "### Helper functions for mean returns and variance-covariance matrix"
   ]
  },
  {
   "cell_type": "code",
   "execution_count": 14,
   "metadata": {
    "id": "6KvXkpyE8MFq"
   },
   "outputs": [],
   "source": [
    "# Codes in this section partially refer to Dr G A Vijayalakshmi Pai\n",
    "\n",
    "# https://www.kaggle.com/code/vijipai/lesson-5-mean-variance-optimization-of-portfolios/notebook\n",
    "\n",
    "def StockReturnsComputing(StockPrice, Rows, Columns): \n",
    "  import numpy as np \n",
    "  StockReturn = np.zeros([Rows-1, Columns]) \n",
    "  for j in range(Columns):        # j: Assets \n",
    "    for i in range(Rows-1):     # i: Daily Prices \n",
    "      StockReturn[i,j]=((StockPrice[i+1, j]-StockPrice[i,j])/StockPrice[i,j])* 100 \n",
    "      \n",
    "  return StockReturn"
   ]
  },
  {
   "cell_type": "markdown",
   "metadata": {
    "id": "IeVVbuwveJ_5"
   },
   "source": [
    "### Calculate the weights for mean-variance"
   ]
  },
  {
   "cell_type": "code",
   "execution_count": 15,
   "metadata": {
    "colab": {
     "base_uri": "https://localhost:8080/"
    },
    "id": "kE8nruKLQYLO",
    "outputId": "42d07c80-f309-49f8-f2b4-36a51987086f"
   },
   "outputs": [
    {
     "data": {
      "text/plain": [
       "array([[ 89.37094879, 232.42138672,  90.74230194, ...,  46.98942947,\n",
       "         35.74636078, 114.19387054],\n",
       "       [ 89.37094879, 235.26379395,  91.01243591, ...,  47.09257507,\n",
       "         36.70822525, 113.73590088],\n",
       "       [ 91.76163483, 233.4508667 ,  93.18332672, ...,  47.47935867,\n",
       "         37.74003601, 113.43058014],\n",
       "       ...,\n",
       "       [147.13844299, 196.00279236, 178.69204712, ...,  48.2805481 ,\n",
       "         45.29573822, 145.98999023],\n",
       "       [147.81158447, 196.99398804, 177.35902405, ...,  48.73966217,\n",
       "         44.45829773, 144.7155304 ],\n",
       "       [147.34631348, 195.01159668, 174.49697876, ...,  48.32645798,\n",
       "         43.36317062, 143.52861023]])"
      ]
     },
     "execution_count": 15,
     "metadata": {},
     "output_type": "execute_result"
    }
   ],
   "source": [
    "StockData = process_df_for_mvo(train)\n",
    "TradeData = process_df_for_mvo(trade)\n",
    "\n",
    "TradeData.to_numpy()"
   ]
  },
  {
   "cell_type": "code",
   "execution_count": 16,
   "metadata": {
    "colab": {
     "base_uri": "https://localhost:8080/"
    },
    "id": "u6_O6vrn_uD4",
    "outputId": "0c2f8bf7-07e7-4fe5-c409-93312b95a8dd"
   },
   "outputs": [
    {
     "name": "stdout",
     "output_type": "stream",
     "text": [
      "Mean returns of assets in k-portfolio 1\n",
      " [0.136 0.068 0.086 0.083 0.066 0.134 0.06  0.035 0.072 0.056 0.103 0.073\n",
      " 0.033 0.076 0.047 0.073 0.042 0.056 0.054 0.056 0.103 0.089 0.041 0.053\n",
      " 0.104 0.11  0.044 0.042 0.042]\n",
      "Variance-Covariance matrix of returns\n",
      " [[3.156 1.066 1.768 1.669 1.722 1.814 1.569 1.302 1.302 1.811 1.303 1.432\n",
      "  1.218 1.674 0.74  1.839 0.719 0.884 1.241 0.823 1.561 1.324 0.752 1.027\n",
      "  1.298 1.466 0.657 1.078 0.631]\n",
      " [1.066 2.571 1.306 1.123 1.193 1.319 1.116 1.053 1.045 1.269 1.068 1.089\n",
      "  0.899 1.218 0.926 1.391 0.682 0.727 1.025 1.156 1.166 0.984 0.798 0.956\n",
      "  1.259 1.111 0.688 1.091 0.682]\n",
      " [1.768 1.306 4.847 2.73  2.6   2.128 1.944 2.141 2.17  3.142 1.932 2.283\n",
      "  1.56  2.012 0.993 3.707 1.094 1.319 1.845 1.236 1.899 1.894 1.041 1.921\n",
      "  1.823 2.314 0.986 1.421 0.707]\n",
      " [1.669 1.123 2.73  4.892 2.363 1.979 1.7   2.115 1.959 2.387 1.773 2.319\n",
      "  1.571 1.797 0.968 2.597 1.144 1.298 1.643 1.071 1.615 1.775 0.91  1.666\n",
      "  1.707 1.784 0.82  1.345 0.647]\n",
      " [1.722 1.193 2.6   2.363 4.019 2.127 1.917 2.059 1.817 2.46  1.577 2.238\n",
      "  1.513 1.929 0.925 2.64  0.947 0.971 1.894 1.089 1.711 1.642 0.865 1.456\n",
      "  1.478 1.687 0.92  1.326 0.697]\n",
      " [1.814 1.319 2.128 1.979 2.127 5.384 1.974 1.549 1.683 2.122 1.624 1.771\n",
      "  1.441 1.939 0.846 2.191 0.837 1.075 1.475 1.041 1.978 1.768 0.784 1.328\n",
      "  1.365 1.912 0.787 1.28  0.666]\n",
      " [1.569 1.116 1.944 1.7   1.917 1.974 3.081 1.483 1.534 1.937 1.367 1.62\n",
      "  1.399 1.843 0.894 2.057 0.794 0.905 1.438 1.014 1.72  1.382 0.865 1.206\n",
      "  1.273 1.488 0.811 1.173 0.753]\n",
      " [1.302 1.053 2.141 2.115 2.059 1.549 1.483 2.842 1.525 2.044 1.428 1.783\n",
      "  1.308 1.533 0.878 2.279 0.938 1.092 1.385 1.078 1.429 1.314 0.831 1.459\n",
      "  1.466 1.48  0.83  1.042 0.567]\n",
      " [1.302 1.045 2.17  1.959 1.817 1.683 1.534 1.525 2.661 1.987 1.454 1.748\n",
      "  1.217 1.475 0.791 2.216 0.896 0.973 1.396 0.949 1.379 1.407 0.859 1.268\n",
      "  1.281 1.454 0.81  1.143 0.667]\n",
      " [1.811 1.269 3.142 2.387 2.46  2.122 1.937 2.044 1.987 4.407 1.789 2.12\n",
      "  1.593 1.982 0.945 3.96  0.956 1.094 1.758 1.157 1.788 1.692 0.905 1.879\n",
      "  1.712 2.    0.945 1.421 0.713]\n",
      " [1.303 1.068 1.932 1.773 1.577 1.624 1.367 1.428 1.454 1.789 2.373 1.51\n",
      "  1.166 1.501 0.756 1.941 0.824 0.998 1.239 0.887 1.366 1.414 0.797 1.299\n",
      "  1.296 1.41  0.764 1.071 0.783]\n",
      " [1.432 1.089 2.283 2.319 2.238 1.771 1.62  1.783 1.748 2.12  1.51  2.516\n",
      "  1.326 1.575 0.889 2.345 0.958 1.022 1.623 1.02  1.489 1.532 0.848 1.377\n",
      "  1.444 1.547 0.81  1.211 0.63 ]\n",
      " [1.218 0.899 1.56  1.571 1.513 1.441 1.399 1.308 1.217 1.593 1.166 1.326\n",
      "  2.052 1.399 0.727 1.749 0.786 0.795 1.154 0.829 1.296 1.12  0.743 1.105\n",
      "  1.088 1.214 0.739 0.998 0.598]\n",
      " [1.674 1.218 2.012 1.797 1.929 1.939 1.843 1.533 1.475 1.982 1.501 1.575\n",
      "  1.399 3.289 0.853 2.112 0.85  0.89  1.412 1.002 1.9   1.352 0.842 1.317\n",
      "  1.334 1.487 0.847 1.165 0.766]\n",
      " [0.74  0.926 0.993 0.968 0.925 0.846 0.894 0.878 0.791 0.945 0.756 0.889\n",
      "  0.727 0.853 1.153 1.027 0.642 0.59  0.848 0.892 0.825 0.748 0.694 0.761\n",
      "  0.929 0.819 0.61  0.806 0.547]\n",
      " [1.839 1.391 3.707 2.597 2.64  2.191 2.057 2.279 2.216 3.96  1.941 2.345\n",
      "  1.749 2.112 1.027 5.271 1.08  1.235 1.892 1.297 1.91  1.85  1.068 2.164\n",
      "  1.85  2.169 1.112 1.555 0.779]\n",
      " [0.719 0.682 1.094 1.144 0.947 0.837 0.794 0.938 0.896 0.956 0.824 0.958\n",
      "  0.786 0.85  0.642 1.08  1.264 0.679 0.804 0.74  0.819 0.845 0.749 0.891\n",
      "  0.849 0.794 0.633 0.719 0.514]\n",
      " [0.884 0.727 1.319 1.298 0.971 1.075 0.905 1.092 0.973 1.094 0.998 1.022\n",
      "  0.795 0.89  0.59  1.235 0.679 1.518 0.816 0.719 0.943 1.027 0.615 1.\n",
      "  0.947 0.994 0.533 0.673 0.504]\n",
      " [1.241 1.025 1.845 1.643 1.894 1.475 1.438 1.385 1.396 1.758 1.239 1.623\n",
      "  1.154 1.412 0.848 1.892 0.804 0.816 2.028 0.9   1.265 1.243 0.787 1.194\n",
      "  1.193 1.282 0.752 1.099 0.622]\n",
      " [0.823 1.156 1.236 1.071 1.089 1.041 1.014 1.078 0.949 1.157 0.887 1.02\n",
      "  0.829 1.002 0.892 1.297 0.74  0.719 0.9   2.007 0.952 0.849 0.732 1.008\n",
      "  1.15  0.933 0.722 0.897 0.614]\n",
      " [1.561 1.166 1.899 1.615 1.711 1.978 1.72  1.429 1.379 1.788 1.366 1.489\n",
      "  1.296 1.9   0.825 1.91  0.819 0.943 1.265 0.952 2.759 1.308 0.832 1.214\n",
      "  1.285 1.493 0.793 1.113 0.705]\n",
      " [1.324 0.984 1.894 1.775 1.642 1.768 1.382 1.314 1.407 1.692 1.414 1.532\n",
      "  1.12  1.352 0.748 1.85  0.845 1.027 1.243 0.849 1.308 2.864 0.751 1.153\n",
      "  1.26  1.411 0.71  1.046 0.651]\n",
      " [0.752 0.798 1.041 0.91  0.865 0.784 0.865 0.831 0.859 0.905 0.797 0.848\n",
      "  0.743 0.842 0.694 1.068 0.749 0.615 0.787 0.732 0.832 0.751 1.289 0.806\n",
      "  0.766 0.763 0.663 0.797 0.645]\n",
      " [1.027 0.956 1.921 1.666 1.456 1.328 1.206 1.459 1.268 1.879 1.299 1.377\n",
      "  1.105 1.317 0.761 2.164 0.891 1.    1.194 1.008 1.214 1.153 0.806 2.27\n",
      "  1.259 1.294 0.812 0.986 0.676]\n",
      " [1.298 1.259 1.823 1.707 1.478 1.365 1.273 1.466 1.281 1.712 1.296 1.444\n",
      "  1.088 1.334 0.929 1.85  0.849 0.947 1.193 1.15  1.285 1.26  0.766 1.259\n",
      "  3.352 1.267 0.697 1.137 0.685]\n",
      " [1.466 1.111 2.314 1.784 1.687 1.912 1.488 1.48  1.454 2.    1.41  1.547\n",
      "  1.214 1.487 0.819 2.169 0.794 0.994 1.282 0.933 1.493 1.411 0.763 1.294\n",
      "  1.267 2.982 0.709 1.007 0.656]\n",
      " [0.657 0.688 0.986 0.82  0.92  0.787 0.811 0.83  0.81  0.945 0.764 0.81\n",
      "  0.739 0.847 0.61  1.112 0.633 0.533 0.752 0.722 0.793 0.71  0.663 0.812\n",
      "  0.697 0.709 1.371 0.697 0.561]\n",
      " [1.078 1.091 1.421 1.345 1.326 1.28  1.173 1.042 1.143 1.421 1.071 1.211\n",
      "  0.998 1.165 0.806 1.555 0.719 0.673 1.099 0.897 1.113 1.046 0.797 0.986\n",
      "  1.137 1.007 0.697 3.073 0.759]\n",
      " [0.631 0.682 0.707 0.647 0.697 0.666 0.753 0.567 0.667 0.713 0.783 0.63\n",
      "  0.598 0.766 0.547 0.779 0.514 0.504 0.622 0.614 0.705 0.651 0.645 0.676\n",
      "  0.685 0.656 0.561 0.759 1.452]]\n"
     ]
    }
   ],
   "source": [
    "#compute asset returns\n",
    "arStockPrices = np.asarray(StockData)\n",
    "[Rows, Cols]=arStockPrices.shape\n",
    "arReturns = StockReturnsComputing(arStockPrices, Rows, Cols)\n",
    "\n",
    "#compute mean returns and variance covariance matrix of returns\n",
    "meanReturns = np.mean(arReturns, axis = 0)\n",
    "covReturns = np.cov(arReturns, rowvar=False)\n",
    " \n",
    "#set precision for printing results\n",
    "np.set_printoptions(precision=3, suppress = True)\n",
    "\n",
    "#display mean returns and variance-covariance matrix of returns\n",
    "print('Mean returns of assets in k-portfolio 1\\n', meanReturns)\n",
    "print('Variance-Covariance matrix of returns\\n', covReturns)"
   ]
  },
  {
   "cell_type": "markdown",
   "metadata": {
    "id": "zC7r-cI8RR1X"
   },
   "source": [
    "### Use PyPortfolioOpt"
   ]
  },
  {
   "cell_type": "code",
   "execution_count": 17,
   "metadata": {
    "colab": {
     "base_uri": "https://localhost:8080/"
    },
    "id": "b1btTONEdCU4",
    "outputId": "75096462-7dfb-4ce6-c6f4-4671f11e79fc"
   },
   "outputs": [
    {
     "data": {
      "text/plain": [
       "array([424250.,      0.,      0.,      0.,      0., 108650.,      0.,\n",
       "            0.,      0.,      0., 181450.,      0.,      0.,      0.,\n",
       "            0.,      0.,      0.,      0.,      0.,      0.,  16960.,\n",
       "            0.,      0.,      0., 133540., 135150.,      0.,      0.,\n",
       "            0.])"
      ]
     },
     "execution_count": 17,
     "metadata": {},
     "output_type": "execute_result"
    }
   ],
   "source": [
    "from pypfopt.efficient_frontier import EfficientFrontier\n",
    "\n",
    "ef_mean = EfficientFrontier(meanReturns, covReturns, weight_bounds=(0, 0.5))\n",
    "raw_weights_mean = ef_mean.max_sharpe()\n",
    "cleaned_weights_mean = ef_mean.clean_weights()\n",
    "mvo_weights = np.array([1000000 * cleaned_weights_mean[i] for i in range(29)])\n",
    "mvo_weights"
   ]
  },
  {
   "cell_type": "code",
   "execution_count": 18,
   "metadata": {
    "colab": {
     "base_uri": "https://localhost:8080/"
    },
    "id": "F38NJRJJgOmj",
    "outputId": "f575651b-1e9b-4015-ae71-c9fc2c3a3dae"
   },
   "outputs": [
    {
     "data": {
      "text/plain": [
       "array([4738.09 ,    0.   ,    0.   ,    0.   ,    0.   ,  579.993,\n",
       "          0.   ,    0.   ,    0.   ,    0.   ,  777.315,    0.   ,\n",
       "          0.   ,    0.   ,    0.   ,    0.   ,    0.   ,    0.   ,\n",
       "          0.   ,    0.   ,   85.651,    0.   ,    0.   ,    0.   ,\n",
       "        470.265,  714.191,    0.   ,    0.   ,    0.   ])"
      ]
     },
     "execution_count": 18,
     "metadata": {},
     "output_type": "execute_result"
    }
   ],
   "source": [
    "LastPrice = np.array([1/p for p in StockData.tail(1).to_numpy()[0]])\n",
    "Initial_Portfolio = np.multiply(mvo_weights, LastPrice)\n",
    "Initial_Portfolio"
   ]
  },
  {
   "cell_type": "code",
   "execution_count": 19,
   "metadata": {
    "id": "ZAd1iXqZhQ6X"
   },
   "outputs": [],
   "source": [
    "Portfolio_Assets = TradeData @ Initial_Portfolio\n",
    "MVO_result = pd.DataFrame(Portfolio_Assets, columns=[\"Mean Var\"])\n",
    "# MVO_result"
   ]
  },
  {
   "cell_type": "markdown",
   "metadata": {
    "id": "I5sgGe7g1HsL"
   },
   "source": [
    "# Part 4: DJIA index"
   ]
  },
  {
   "cell_type": "markdown",
   "metadata": {
    "id": "sVe_ufxTY2CW"
   },
   "source": [
    "Add DJIA index as a baseline to compare with."
   ]
  },
  {
   "cell_type": "code",
   "execution_count": 20,
   "metadata": {
    "id": "sACPzsI-6k8q"
   },
   "outputs": [],
   "source": [
    "TRAIN_START_DATE = '2009-01-01'\n",
    "TRAIN_END_DATE = '2020-07-01'\n",
    "TRADE_START_DATE = '2020-07-01'\n",
    "TRADE_END_DATE = '2021-10-29'"
   ]
  },
  {
   "cell_type": "code",
   "execution_count": 21,
   "metadata": {
    "colab": {
     "base_uri": "https://localhost:8080/"
    },
    "id": "TuszW-OB1K0m",
    "outputId": "b89a8350-de58-4fea-8e4b-856efa872712"
   },
   "outputs": [
    {
     "name": "stdout",
     "output_type": "stream",
     "text": [
      "[*********************100%***********************]  1 of 1 completed\n",
      "Shape of DataFrame:  (319, 8)\n"
     ]
    }
   ],
   "source": [
    "df_dji = YahooDownloader(start_date = TRADE_START_DATE,\n",
    "                     end_date = TRADE_END_DATE,\n",
    "                     ticker_list = ['dji']).fetch_data()\n",
    "# df_dji"
   ]
  },
  {
   "cell_type": "code",
   "execution_count": 22,
   "metadata": {
    "id": "Q3RXz72U1VbV"
   },
   "outputs": [],
   "source": [
    "df_dji = df_dji[['date','close']]\n",
    "fst_day = df_dji['close'][0]\n",
    "dji = pd.merge(df_dji['date'], df_dji['close'].div(fst_day).mul(1000000), \n",
    "               how='outer', left_index=True, right_index=True).set_index('date')\n",
    "# dji"
   ]
  },
  {
   "cell_type": "markdown",
   "metadata": {
    "id": "W6vvNSC6h1jZ"
   },
   "source": [
    "<a id='4'></a>\n",
    "# Part 5: Backtesting Results\n",
    "Backtesting plays a key role in evaluating the performance of a trading strategy. Automated backtesting tool is preferred because it reduces the human error. We usually use the Quantopian pyfolio package to backtest our trading strategies. It is easy to use and consists of various individual plots that provide a comprehensive image of the performance of a trading strategy."
   ]
  },
  {
   "cell_type": "code",
   "execution_count": 23,
   "metadata": {
    "id": "KeDeGAc9VrEg"
   },
   "outputs": [],
   "source": [
    "df_result_a2c = df_account_value_a2c.set_index(df_account_value_a2c.columns[0]) if if_using_a2c else None\n",
    "df_result_ppo = df_account_value_ppo.set_index(df_account_value_ppo.columns[0]) if if_using_ppo else None\n",
    "df_result_sac = df_account_value_sac.set_index(df_account_value_sac.columns[0]) if if_using_sac else None\n",
    "\n",
    "result = pd.DataFrame()\n",
    "if if_using_a2c: result = pd.merge(result, df_result_a2c, how='outer', left_index=True, right_index=True)\n",
    "if if_using_ppo: result = pd.merge(result, df_result_ppo, how='outer', left_index=True, right_index=True)\n",
    "if if_using_sac: result = pd.merge(result, df_result_sac, how='outer', left_index=True, right_index=True)\n",
    "result = pd.merge(result, MVO_result, how='outer', left_index=True, right_index=True)\n",
    "result = pd.merge(result, dji, how='outer', left_index=True, right_index=True).fillna(method='bfill')"
   ]
  },
  {
   "cell_type": "code",
   "execution_count": 24,
   "metadata": {
    "id": "JvlTVQwsiMyx"
   },
   "outputs": [],
   "source": [
    "col_name = []\n",
    "col_name.append('A2C') if if_using_a2c else None\n",
    "col_name.append('PPO') if if_using_ppo else None\n",
    "col_name.append('SAC') if if_using_sac else None\n",
    "col_name.append('Mean Var')\n",
    "col_name.append('djia') \n",
    "result.columns = col_name"
   ]
  },
  {
   "cell_type": "code",
   "execution_count": 25,
   "metadata": {
    "colab": {
     "base_uri": "https://localhost:8080/",
     "height": 455
    },
    "id": "l4FZxyDt3XaE",
    "outputId": "2e739637-bf88-4698-9cf1-9a526452e465"
   },
   "outputs": [
    {
     "data": {
      "text/html": [
       "<div>\n",
       "<style scoped>\n",
       "    .dataframe tbody tr th:only-of-type {\n",
       "        vertical-align: middle;\n",
       "    }\n",
       "\n",
       "    .dataframe tbody tr th {\n",
       "        vertical-align: top;\n",
       "    }\n",
       "\n",
       "    .dataframe thead th {\n",
       "        text-align: right;\n",
       "    }\n",
       "</style>\n",
       "<table border=\"1\" class=\"dataframe\">\n",
       "  <thead>\n",
       "    <tr style=\"text-align: right;\">\n",
       "      <th></th>\n",
       "      <th>A2C</th>\n",
       "      <th>PPO</th>\n",
       "      <th>SAC</th>\n",
       "      <th>Mean Var</th>\n",
       "      <th>djia</th>\n",
       "    </tr>\n",
       "    <tr>\n",
       "      <th>date</th>\n",
       "      <th></th>\n",
       "      <th></th>\n",
       "      <th></th>\n",
       "      <th></th>\n",
       "      <th></th>\n",
       "    </tr>\n",
       "  </thead>\n",
       "  <tbody>\n",
       "    <tr>\n",
       "      <th>2020-07-01</th>\n",
       "      <td>1.000000e+06</td>\n",
       "      <td>1.000000e+06</td>\n",
       "      <td>1.000000e+06</td>\n",
       "      <td>1.001918e+06</td>\n",
       "      <td>1.000000e+06</td>\n",
       "    </tr>\n",
       "    <tr>\n",
       "      <th>2020-07-02</th>\n",
       "      <td>1.000430e+06</td>\n",
       "      <td>1.000071e+06</td>\n",
       "      <td>1.000248e+06</td>\n",
       "      <td>1.004235e+06</td>\n",
       "      <td>1.021449e+06</td>\n",
       "    </tr>\n",
       "    <tr>\n",
       "      <th>2020-07-06</th>\n",
       "      <td>1.007868e+06</td>\n",
       "      <td>1.000897e+06</td>\n",
       "      <td>1.006197e+06</td>\n",
       "      <td>1.023225e+06</td>\n",
       "      <td>1.021449e+06</td>\n",
       "    </tr>\n",
       "    <tr>\n",
       "      <th>2020-07-07</th>\n",
       "      <td>9.981004e+05</td>\n",
       "      <td>9.997652e+05</td>\n",
       "      <td>9.994592e+05</td>\n",
       "      <td>1.014021e+06</td>\n",
       "      <td>1.006031e+06</td>\n",
       "    </tr>\n",
       "    <tr>\n",
       "      <th>2020-07-08</th>\n",
       "      <td>1.005383e+06</td>\n",
       "      <td>1.000411e+06</td>\n",
       "      <td>1.004157e+06</td>\n",
       "      <td>1.029461e+06</td>\n",
       "      <td>1.012912e+06</td>\n",
       "    </tr>\n",
       "    <tr>\n",
       "      <th>...</th>\n",
       "      <td>...</td>\n",
       "      <td>...</td>\n",
       "      <td>...</td>\n",
       "      <td>...</td>\n",
       "      <td>...</td>\n",
       "    </tr>\n",
       "    <tr>\n",
       "      <th>2021-10-22</th>\n",
       "      <td>1.584533e+06</td>\n",
       "      <td>1.424569e+06</td>\n",
       "      <td>1.370542e+06</td>\n",
       "      <td>1.535668e+06</td>\n",
       "      <td>1.386322e+06</td>\n",
       "    </tr>\n",
       "    <tr>\n",
       "      <th>2021-10-25</th>\n",
       "      <td>1.584402e+06</td>\n",
       "      <td>1.438277e+06</td>\n",
       "      <td>1.369433e+06</td>\n",
       "      <td>1.542078e+06</td>\n",
       "      <td>1.388813e+06</td>\n",
       "    </tr>\n",
       "    <tr>\n",
       "      <th>2021-10-26</th>\n",
       "      <td>1.586185e+06</td>\n",
       "      <td>1.432413e+06</td>\n",
       "      <td>1.365777e+06</td>\n",
       "      <td>1.545514e+06</td>\n",
       "      <td>1.389427e+06</td>\n",
       "    </tr>\n",
       "    <tr>\n",
       "      <th>2021-10-27</th>\n",
       "      <td>1.578875e+06</td>\n",
       "      <td>1.411472e+06</td>\n",
       "      <td>1.358754e+06</td>\n",
       "      <td>1.534916e+06</td>\n",
       "      <td>1.379083e+06</td>\n",
       "    </tr>\n",
       "    <tr>\n",
       "      <th>2021-10-28</th>\n",
       "      <td>NaN</td>\n",
       "      <td>NaN</td>\n",
       "      <td>NaN</td>\n",
       "      <td>NaN</td>\n",
       "      <td>1.388401e+06</td>\n",
       "    </tr>\n",
       "  </tbody>\n",
       "</table>\n",
       "<p>336 rows × 5 columns</p>\n",
       "</div>"
      ],
      "text/plain": [
       "                     A2C           PPO           SAC      Mean Var  \\\n",
       "date                                                                 \n",
       "2020-07-01  1.000000e+06  1.000000e+06  1.000000e+06  1.001918e+06   \n",
       "2020-07-02  1.000430e+06  1.000071e+06  1.000248e+06  1.004235e+06   \n",
       "2020-07-06  1.007868e+06  1.000897e+06  1.006197e+06  1.023225e+06   \n",
       "2020-07-07  9.981004e+05  9.997652e+05  9.994592e+05  1.014021e+06   \n",
       "2020-07-08  1.005383e+06  1.000411e+06  1.004157e+06  1.029461e+06   \n",
       "...                  ...           ...           ...           ...   \n",
       "2021-10-22  1.584533e+06  1.424569e+06  1.370542e+06  1.535668e+06   \n",
       "2021-10-25  1.584402e+06  1.438277e+06  1.369433e+06  1.542078e+06   \n",
       "2021-10-26  1.586185e+06  1.432413e+06  1.365777e+06  1.545514e+06   \n",
       "2021-10-27  1.578875e+06  1.411472e+06  1.358754e+06  1.534916e+06   \n",
       "2021-10-28           NaN           NaN           NaN           NaN   \n",
       "\n",
       "                    djia  \n",
       "date                      \n",
       "2020-07-01  1.000000e+06  \n",
       "2020-07-02  1.021449e+06  \n",
       "2020-07-06  1.021449e+06  \n",
       "2020-07-07  1.006031e+06  \n",
       "2020-07-08  1.012912e+06  \n",
       "...                  ...  \n",
       "2021-10-22  1.386322e+06  \n",
       "2021-10-25  1.388813e+06  \n",
       "2021-10-26  1.389427e+06  \n",
       "2021-10-27  1.379083e+06  \n",
       "2021-10-28  1.388401e+06  \n",
       "\n",
       "[336 rows x 5 columns]"
      ]
     },
     "execution_count": 25,
     "metadata": {},
     "output_type": "execute_result"
    }
   ],
   "source": [
    "result"
   ]
  },
  {
   "cell_type": "markdown",
   "metadata": {
    "id": "QQuc5hI9Yklt"
   },
   "source": [
    "Now, everything is ready, we can plot the backtest result."
   ]
  },
  {
   "cell_type": "code",
   "execution_count": 26,
   "metadata": {
    "colab": {
     "base_uri": "https://localhost:8080/",
     "height": 381
    },
    "id": "6xRfrqK4RVfq",
    "outputId": "469c9729-fd57-417c-9b13-2243426923e2"
   },
   "outputs": [
    {
     "data": {
      "text/plain": [
       "<Axes: xlabel='date'>"
      ]
     },
     "execution_count": 26,
     "metadata": {},
     "output_type": "execute_result"
    },
    {
     "data": {
      "text/plain": [
       "<Figure size 1500x500 with 0 Axes>"
      ]
     },
     "metadata": {},
     "output_type": "display_data"
    },
    {
     "data": {
      "image/png": "[encoded data removed]",
      "text/plain": [
       "<Figure size 1500x500 with 1 Axes>"
      ]
     },
     "metadata": {},
     "output_type": "display_data"
    }
   ],
   "source": [
    "plt.rcParams[\"figure.figsize\"] = (15,5)\n",
    "plt.figure()\n",
    "result.plot()"
   ]
  },
  {
   "cell_type": "code",
   "execution_count": 33,
   "metadata": {},
   "outputs": [],
   "source": [
    "import empyrical as ep\n"
   ]
  },
  {
   "cell_type": "code",
   "execution_count": 38,
   "metadata": {},
   "outputs": [
    {
     "data": {
      "text/html": [
       "<div>\n",
       "<style scoped>\n",
       "    .dataframe tbody tr th:only-of-type {\n",
       "        vertical-align: middle;\n",
       "    }\n",
       "\n",
       "    .dataframe tbody tr th {\n",
       "        vertical-align: top;\n",
       "    }\n",
       "\n",
       "    .dataframe thead th {\n",
       "        text-align: right;\n",
       "    }\n",
       "</style>\n",
       "<table border=\"1\" class=\"dataframe\">\n",
       "  <thead>\n",
       "    <tr style=\"text-align: right;\">\n",
       "      <th></th>\n",
       "      <th>A2C</th>\n",
       "      <th>PPO</th>\n",
       "      <th>SAC</th>\n",
       "      <th>Mean Var</th>\n",
       "      <th>djia</th>\n",
       "    </tr>\n",
       "    <tr>\n",
       "      <th>date</th>\n",
       "      <th></th>\n",
       "      <th></th>\n",
       "      <th></th>\n",
       "      <th></th>\n",
       "      <th></th>\n",
       "    </tr>\n",
       "  </thead>\n",
       "  <tbody>\n",
       "    <tr>\n",
       "      <th>2020-07-01</th>\n",
       "      <td>NaN</td>\n",
       "      <td>NaN</td>\n",
       "      <td>NaN</td>\n",
       "      <td>NaN</td>\n",
       "      <td>NaN</td>\n",
       "    </tr>\n",
       "    <tr>\n",
       "      <th>2020-07-02</th>\n",
       "      <td>0.043027</td>\n",
       "      <td>0.007079</td>\n",
       "      <td>0.024808</td>\n",
       "      <td>0.231252</td>\n",
       "      <td>2.144939</td>\n",
       "    </tr>\n",
       "    <tr>\n",
       "      <th>2020-07-06</th>\n",
       "      <td>0.743486</td>\n",
       "      <td>0.082654</td>\n",
       "      <td>0.594701</td>\n",
       "      <td>1.891020</td>\n",
       "      <td>0.000000</td>\n",
       "    </tr>\n",
       "    <tr>\n",
       "      <th>2020-07-07</th>\n",
       "      <td>-0.969171</td>\n",
       "      <td>-0.113113</td>\n",
       "      <td>-0.669588</td>\n",
       "      <td>-0.899470</td>\n",
       "      <td>-1.509494</td>\n",
       "    </tr>\n",
       "    <tr>\n",
       "      <th>2020-07-08</th>\n",
       "      <td>0.729640</td>\n",
       "      <td>0.064613</td>\n",
       "      <td>0.470029</td>\n",
       "      <td>1.522592</td>\n",
       "      <td>0.684049</td>\n",
       "    </tr>\n",
       "    <tr>\n",
       "      <th>...</th>\n",
       "      <td>...</td>\n",
       "      <td>...</td>\n",
       "      <td>...</td>\n",
       "      <td>...</td>\n",
       "      <td>...</td>\n",
       "    </tr>\n",
       "    <tr>\n",
       "      <th>2021-10-22</th>\n",
       "      <td>0.636956</td>\n",
       "      <td>0.522828</td>\n",
       "      <td>0.382777</td>\n",
       "      <td>0.172544</td>\n",
       "      <td>0.207562</td>\n",
       "    </tr>\n",
       "    <tr>\n",
       "      <th>2021-10-25</th>\n",
       "      <td>-0.008277</td>\n",
       "      <td>0.962279</td>\n",
       "      <td>-0.080953</td>\n",
       "      <td>0.417414</td>\n",
       "      <td>0.179672</td>\n",
       "    </tr>\n",
       "    <tr>\n",
       "      <th>2021-10-26</th>\n",
       "      <td>0.112540</td>\n",
       "      <td>-0.407745</td>\n",
       "      <td>-0.266982</td>\n",
       "      <td>0.222830</td>\n",
       "      <td>0.044198</td>\n",
       "    </tr>\n",
       "    <tr>\n",
       "      <th>2021-10-27</th>\n",
       "      <td>-0.460849</td>\n",
       "      <td>-1.461959</td>\n",
       "      <td>-0.514188</td>\n",
       "      <td>-0.685743</td>\n",
       "      <td>-0.744470</td>\n",
       "    </tr>\n",
       "    <tr>\n",
       "      <th>2021-10-28</th>\n",
       "      <td>0.000000</td>\n",
       "      <td>0.000000</td>\n",
       "      <td>0.000000</td>\n",
       "      <td>0.000000</td>\n",
       "      <td>0.675672</td>\n",
       "    </tr>\n",
       "  </tbody>\n",
       "</table>\n",
       "<p>336 rows × 5 columns</p>\n",
       "</div>"
      ],
      "text/plain": [
       "                 A2C       PPO       SAC  Mean Var      djia\n",
       "date                                                        \n",
       "2020-07-01       NaN       NaN       NaN       NaN       NaN\n",
       "2020-07-02  0.043027  0.007079  0.024808  0.231252  2.144939\n",
       "2020-07-06  0.743486  0.082654  0.594701  1.891020  0.000000\n",
       "2020-07-07 -0.969171 -0.113113 -0.669588 -0.899470 -1.509494\n",
       "2020-07-08  0.729640  0.064613  0.470029  1.522592  0.684049\n",
       "...              ...       ...       ...       ...       ...\n",
       "2021-10-22  0.636956  0.522828  0.382777  0.172544  0.207562\n",
       "2021-10-25 -0.008277  0.962279 -0.080953  0.417414  0.179672\n",
       "2021-10-26  0.112540 -0.407745 -0.266982  0.222830  0.044198\n",
       "2021-10-27 -0.460849 -1.461959 -0.514188 -0.685743 -0.744470\n",
       "2021-10-28  0.000000  0.000000  0.000000  0.000000  0.675672\n",
       "\n",
       "[336 rows x 5 columns]"
      ]
     },
     "execution_count": 38,
     "metadata": {},
     "output_type": "execute_result"
    }
   ],
   "source": [
    "result_return = result.pct_change()*100\n",
    "result_return"
   ]
  },
  {
   "cell_type": "code",
   "execution_count": 83,
   "metadata": {},
   "outputs": [],
   "source": [
    "def backtest_stat(df):\n",
    "    \n",
    "    Cum_Return = ep.cum_returns(df/100, starting_value=0)[-1:].item()*100\n",
    "    CAGR = ep.cagr(df/100, period='daily', annualization=None)*100\n",
    "    Annual_Vol = ep.annual_volatility(df/100, period='daily', alpha=2.0, annualization=None, out=None)*100\n",
    "    Sharpe_Ratio = ep.sharpe_ratio(df/100, risk_free=0, period='daily', annualization=None, out=None)\n",
    "    Max_Drawdown = ep.max_drawdown(df/100, out=None)*100\n",
    "    \n",
    "    return Cum_Return, CAGR, Annual_Vol, Sharpe_Ratio, Max_Drawdown"
   ]
  },
  {
   "cell_type": "code",
   "execution_count": 115,
   "metadata": {},
   "outputs": [
    {
     "data": {
      "text/html": [
       "<div>\n",
       "<style scoped>\n",
       "    .dataframe tbody tr th:only-of-type {\n",
       "        vertical-align: middle;\n",
       "    }\n",
       "\n",
       "    .dataframe tbody tr th {\n",
       "        vertical-align: top;\n",
       "    }\n",
       "\n",
       "    .dataframe thead th {\n",
       "        text-align: right;\n",
       "    }\n",
       "</style>\n",
       "<table border=\"1\" class=\"dataframe\">\n",
       "  <thead>\n",
       "    <tr style=\"text-align: right;\">\n",
       "      <th></th>\n",
       "      <th>A2C</th>\n",
       "      <th>PPO</th>\n",
       "      <th>SAC</th>\n",
       "      <th>Mean Var</th>\n",
       "      <th>DJIA</th>\n",
       "    </tr>\n",
       "  </thead>\n",
       "  <tbody>\n",
       "    <tr>\n",
       "      <th>Cumulative Return</th>\n",
       "      <td>57.887544</td>\n",
       "      <td>41.147166</td>\n",
       "      <td>35.875385</td>\n",
       "      <td>53.197792</td>\n",
       "      <td>38.840101</td>\n",
       "    </tr>\n",
       "    <tr>\n",
       "      <th>Annual Return</th>\n",
       "      <td>40.851313</td>\n",
       "      <td>29.495334</td>\n",
       "      <td>25.850687</td>\n",
       "      <td>37.701725</td>\n",
       "      <td>27.904608</td>\n",
       "    </tr>\n",
       "    <tr>\n",
       "      <th>Annual Volatility</th>\n",
       "      <td>16.060108</td>\n",
       "      <td>14.137512</td>\n",
       "      <td>18.411696</td>\n",
       "      <td>20.574595</td>\n",
       "      <td>13.759810</td>\n",
       "    </tr>\n",
       "    <tr>\n",
       "      <th>Sharpe Ratio</th>\n",
       "      <td>2.220853</td>\n",
       "      <td>1.905294</td>\n",
       "      <td>1.344625</td>\n",
       "      <td>1.663252</td>\n",
       "      <td>1.863503</td>\n",
       "    </tr>\n",
       "    <tr>\n",
       "      <th>Max Drawdown</th>\n",
       "      <td>-10.383590</td>\n",
       "      <td>-8.107747</td>\n",
       "      <td>-12.752304</td>\n",
       "      <td>-14.477942</td>\n",
       "      <td>-8.930776</td>\n",
       "    </tr>\n",
       "  </tbody>\n",
       "</table>\n",
       "</div>"
      ],
      "text/plain": [
       "                         A2C        PPO        SAC   Mean Var       DJIA\n",
       "Cumulative Return  57.887544  41.147166  35.875385  53.197792  38.840101\n",
       "Annual Return      40.851313  29.495334  25.850687  37.701725  27.904608\n",
       "Annual Volatility  16.060108  14.137512  18.411696  20.574595  13.759810\n",
       "Sharpe Ratio        2.220853   1.905294   1.344625   1.663252   1.863503\n",
       "Max Drawdown      -10.383590  -8.107747 -12.752304 -14.477942  -8.930776"
      ]
     },
     "execution_count": 115,
     "metadata": {},
     "output_type": "execute_result"
    }
   ],
   "source": [
    "backtest_result = []\n",
    "for i in result_return.columns:  \n",
    "    backtest_result.append(backtest_stat(result_return[i]))\n",
    "\n",
    "pd.DataFrame(backtest_result, columns=['Cumulative Return','Annual Return','Annual Volatility','Sharpe Ratio','Max Drawdown'], index=['A2C','PPO','SAC','Mean Var','DJIA']).transpose()"
   ]
  },
  {
   "cell_type": "markdown",
   "metadata": {},
   "source": [
    "## A2C and PPO outperforms SAC and the two baselines (Mean Var and DJIA) in terms of the risk-adjusted return measured by the Sharpe Ratio."
   ]
  },
  {
   "cell_type": "code",
   "execution_count": null,
   "metadata": {},
   "outputs": [],
   "source": []
  }
 ],
 "metadata": {
  "colab": {
   "collapsed_sections": [
    "GfZ5vY5wRjkJ"
   ],
   "provenance": []
  },
  "kernelspec": {
   "display_name": "Python 3 (ipykernel)",
   "language": "python",
   "name": "python3"
  },
  "language_info": {
   "codemirror_mode": {
    "name": "ipython",
    "version": 3
   },
   "file_extension": ".py",
   "mimetype": "text/x-python",
   "name": "python",
   "nbconvert_exporter": "python",
   "pygments_lexer": "ipython3",
   "version": "3.10.9"
  }
 },
 "nbformat": 4,
 "nbformat_minor": 1
}
